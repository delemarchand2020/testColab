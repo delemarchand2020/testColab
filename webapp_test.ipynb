{
  "nbformat": 4,
  "nbformat_minor": 0,
  "metadata": {
    "colab": {
      "name": "webapp_test.ipynb",
      "provenance": [],
      "collapsed_sections": [],
      "authorship_tag": "ABX9TyMd46HeMkUtplJlhb6fIE+m",
      "include_colab_link": true
    },
    "kernelspec": {
      "name": "python3",
      "display_name": "Python 3"
    }
  },
  "cells": [
    {
      "cell_type": "markdown",
      "metadata": {
        "id": "view-in-github",
        "colab_type": "text"
      },
      "source": [
        "<a href=\"https://colab.research.google.com/github/delemarchand2020/testColab/blob/main/webapp_test.ipynb\" target=\"_parent\"><img src=\"https://colab.research.google.com/assets/colab-badge.svg\" alt=\"Open In Colab\"/></a>"
      ]
    },
    {
      "cell_type": "markdown",
      "metadata": {
        "id": "j3hl24JUfvnI"
      },
      "source": [
        "\r\n",
        "\r\n",
        "Voir doc : https://medium.com/@arsindoliya/running-django-on-google-colab-ea9392cdee86\r\n",
        "\r\n"
      ]
    },
    {
      "cell_type": "code",
      "metadata": {
        "colab": {
          "base_uri": "https://localhost:8080/"
        },
        "id": "mKH0NZ5FA3U4",
        "outputId": "85d227b7-464e-4a9a-e18e-28a8179b8734"
      },
      "source": [
        "!pip install django"
      ],
      "execution_count": 2,
      "outputs": [
        {
          "output_type": "stream",
          "text": [
            "Requirement already satisfied: django in /usr/local/lib/python3.6/dist-packages (3.1.5)\n",
            "Requirement already satisfied: sqlparse>=0.2.2 in /usr/local/lib/python3.6/dist-packages (from django) (0.4.1)\n",
            "Requirement already satisfied: asgiref<4,>=3.2.10 in /usr/local/lib/python3.6/dist-packages (from django) (3.3.1)\n",
            "Requirement already satisfied: pytz in /usr/local/lib/python3.6/dist-packages (from django) (2018.9)\n"
          ],
          "name": "stdout"
        }
      ]
    },
    {
      "cell_type": "code",
      "metadata": {
        "id": "TjfyL1qnA6Jn"
      },
      "source": [
        "!django-admin startproject webapp_test"
      ],
      "execution_count": 3,
      "outputs": []
    },
    {
      "cell_type": "code",
      "metadata": {
        "colab": {
          "base_uri": "https://localhost:8080/"
        },
        "id": "zx4lzOcVeEs3",
        "outputId": "6bcd3c08-cd10-4e48-a759-3edf4dceacf4"
      },
      "source": [
        "!ls"
      ],
      "execution_count": 16,
      "outputs": [
        {
          "output_type": "stream",
          "text": [
            "polls  sample_data  webapp_test\n"
          ],
          "name": "stdout"
        }
      ]
    },
    {
      "cell_type": "code",
      "metadata": {
        "colab": {
          "base_uri": "https://localhost:8080/",
          "height": 35
        },
        "id": "tbQS5t9eeTyb",
        "outputId": "9a8eb064-d8e9-4aef-bf02-15ba0f6765a1"
      },
      "source": [
        "from google.colab.output import eval_js\r\n",
        "print(eval_js(\"google.colab.kernel.proxyPort(8000)\"))"
      ],
      "execution_count": 17,
      "outputs": [
        {
          "output_type": "stream",
          "text": [
            "https://3rc0diw2i2s-496ff2e9c6d22116-8000-colab.googleusercontent.com/\n"
          ],
          "name": "stdout"
        }
      ]
    },
    {
      "cell_type": "code",
      "metadata": {
        "id": "YwhW1MdKlLTj"
      },
      "source": [
        "!cd webapp_test"
      ],
      "execution_count": 32,
      "outputs": []
    },
    {
      "cell_type": "code",
      "metadata": {
        "id": "B4jJzi0HtQUq"
      },
      "source": [
        "import sys\r\n",
        "sys.path.insert(0, \"~/../content\")"
      ],
      "execution_count": 50,
      "outputs": []
    },
    {
      "cell_type": "code",
      "metadata": {
        "colab": {
          "base_uri": "https://localhost:8080/"
        },
        "id": "wSOfRNRPtcYX",
        "outputId": "17badd21-00f8-43c5-9406-1a39d1da0e74"
      },
      "source": [
        "print(sys.path)"
      ],
      "execution_count": 51,
      "outputs": [
        {
          "output_type": "stream",
          "text": [
            "['~/../content', '/content', '', '/env/python', '/usr/lib/python36.zip', '/usr/lib/python3.6', '/usr/lib/python3.6/lib-dynload', '/usr/local/lib/python3.6/dist-packages', '/usr/lib/python3/dist-packages', '/usr/local/lib/python3.6/dist-packages/IPython/extensions', '/root/.ipython']\n"
          ],
          "name": "stdout"
        }
      ]
    },
    {
      "cell_type": "code",
      "metadata": {
        "colab": {
          "base_uri": "https://localhost:8080/"
        },
        "id": "xNhzky-VlRfC",
        "outputId": "66db0dc9-c714-4897-af8d-c5d838a12b8b"
      },
      "source": [
        "!ls "
      ],
      "execution_count": 52,
      "outputs": [
        {
          "output_type": "stream",
          "text": [
            "polls  sample_data  webapp_test\n"
          ],
          "name": "stdout"
        }
      ]
    },
    {
      "cell_type": "code",
      "metadata": {
        "colab": {
          "base_uri": "https://localhost:8080/"
        },
        "id": "qzPoI2fee2p3",
        "outputId": "0d269d9f-ec80-44e8-88fb-1b7692f0b981"
      },
      "source": [
        "!webapp_test/manage.py runserver 8000"
      ],
      "execution_count": null,
      "outputs": [
        {
          "output_type": "stream",
          "text": [
            "Watching for file changes with StatReloader\n",
            "Performing system checks...\n",
            "\n",
            "System check identified no issues (0 silenced).\n",
            "January 12, 2021 - 13:13:41\n",
            "Django version 3.1.5, using settings 'webapp_test.settings'\n",
            "Starting development server at http://127.0.0.1:8000/\n",
            "Quit the server with CONTROL-C.\n",
            "/content/webapp_test/webapp_test/urls.py changed, reloading.\n",
            "Watching for file changes with StatReloader\n",
            "Performing system checks...\n",
            "\n",
            "System check identified no issues (0 silenced).\n",
            "January 12, 2021 - 13:14:28\n",
            "Django version 3.1.5, using settings 'webapp_test.settings'\n",
            "Starting development server at http://127.0.0.1:8000/\n",
            "Quit the server with CONTROL-C.\n",
            "/content/webapp_test/webapp_test/urls.py changed, reloading.\n",
            "Watching for file changes with StatReloader\n",
            "Performing system checks...\n",
            "\n",
            "System check identified no issues (0 silenced).\n",
            "January 12, 2021 - 13:14:48\n",
            "Django version 3.1.5, using settings 'webapp_test.settings'\n",
            "Starting development server at http://127.0.0.1:8000/\n",
            "Quit the server with CONTROL-C.\n",
            "[12/Jan/2021 13:14:50] \u001b[m\"GET /polls/ HTTP/1.1\" 200 40\u001b[0m\n",
            "Not Found: /favicon.ico\n",
            "[12/Jan/2021 13:14:50] \u001b[33m\"GET /favicon.ico HTTP/1.1\" 404 2096\u001b[0m\n",
            "/content/webapp_test/webapp_test/urls.py changed, reloading.\n",
            "Watching for file changes with StatReloader\n",
            "Performing system checks...\n",
            "\n",
            "System check identified no issues (0 silenced).\n",
            "January 12, 2021 - 13:15:00\n",
            "Django version 3.1.5, using settings 'webapp_test.settings'\n",
            "Starting development server at http://127.0.0.1:8000/\n",
            "Quit the server with CONTROL-C.\n"
          ],
          "name": "stdout"
        }
      ]
    },
    {
      "cell_type": "code",
      "metadata": {
        "colab": {
          "base_uri": "https://localhost:8080/"
        },
        "id": "jGwNySoChQNf",
        "outputId": "c39b2fcb-94fb-4d6f-aedd-2c5885017e08"
      },
      "source": [
        "!webapp_test/manage.py migrate"
      ],
      "execution_count": 21,
      "outputs": [
        {
          "output_type": "stream",
          "text": [
            "\u001b[36;1mOperations to perform:\u001b[0m\n",
            "\u001b[1m  Apply all migrations: \u001b[0madmin, auth, contenttypes, sessions\n",
            "\u001b[36;1mRunning migrations:\u001b[0m\n",
            "  Applying contenttypes.0001_initial...\u001b[32;1m OK\u001b[0m\n",
            "  Applying auth.0001_initial...\u001b[32;1m OK\u001b[0m\n",
            "  Applying admin.0001_initial...\u001b[32;1m OK\u001b[0m\n",
            "  Applying admin.0002_logentry_remove_auto_add...\u001b[32;1m OK\u001b[0m\n",
            "  Applying admin.0003_logentry_add_action_flag_choices...\u001b[32;1m OK\u001b[0m\n",
            "  Applying contenttypes.0002_remove_content_type_name...\u001b[32;1m OK\u001b[0m\n",
            "  Applying auth.0002_alter_permission_name_max_length...\u001b[32;1m OK\u001b[0m\n",
            "  Applying auth.0003_alter_user_email_max_length...\u001b[32;1m OK\u001b[0m\n",
            "  Applying auth.0004_alter_user_username_opts...\u001b[32;1m OK\u001b[0m\n",
            "  Applying auth.0005_alter_user_last_login_null...\u001b[32;1m OK\u001b[0m\n",
            "  Applying auth.0006_require_contenttypes_0002...\u001b[32;1m OK\u001b[0m\n",
            "  Applying auth.0007_alter_validators_add_error_messages...\u001b[32;1m OK\u001b[0m\n",
            "  Applying auth.0008_alter_user_username_max_length...\u001b[32;1m OK\u001b[0m\n",
            "  Applying auth.0009_alter_user_last_name_max_length...\u001b[32;1m OK\u001b[0m\n",
            "  Applying auth.0010_alter_group_name_max_length...\u001b[32;1m OK\u001b[0m\n",
            "  Applying auth.0011_update_proxy_permissions...\u001b[32;1m OK\u001b[0m\n",
            "  Applying auth.0012_alter_user_first_name_max_length...\u001b[32;1m OK\u001b[0m\n",
            "  Applying sessions.0001_initial...\u001b[32;1m OK\u001b[0m\n"
          ],
          "name": "stdout"
        }
      ]
    },
    {
      "cell_type": "code",
      "metadata": {
        "colab": {
          "base_uri": "https://localhost:8080/"
        },
        "id": "3v7OTddqhZ1g",
        "outputId": "1c8597ec-9a70-44ad-b375-bf4ea7972310"
      },
      "source": [
        "!webapp_test/manage.py startapp polls"
      ],
      "execution_count": 22,
      "outputs": [
        {
          "output_type": "stream",
          "text": [
            "\u001b[31;1mCommandError: '/content/polls' already exists\n",
            "\u001b[0m"
          ],
          "name": "stdout"
        }
      ]
    }
  ]
}
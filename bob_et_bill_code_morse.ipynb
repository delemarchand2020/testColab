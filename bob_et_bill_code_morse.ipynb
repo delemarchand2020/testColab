{
  "nbformat": 4,
  "nbformat_minor": 0,
  "metadata": {
    "colab": {
      "name": "bob_et_bill_code_morse.ipynb",
      "provenance": [],
      "authorship_tag": "ABX9TyMOy8sRnGgkYtET7+WFPqoi",
      "include_colab_link": true
    },
    "kernelspec": {
      "name": "python3",
      "display_name": "Python 3"
    },
    "language_info": {
      "name": "python"
    }
  },
  "cells": [
    {
      "cell_type": "markdown",
      "metadata": {
        "id": "view-in-github",
        "colab_type": "text"
      },
      "source": [
        "<a href=\"https://colab.research.google.com/github/delemarchand2020/testColab/blob/main/bob_et_bill_code_morse.ipynb\" target=\"_parent\"><img src=\"https://colab.research.google.com/assets/colab-badge.svg\" alt=\"Open In Colab\"/></a>"
      ]
    },
    {
      "cell_type": "code",
      "metadata": {
        "id": "RUC_ImkC5y_K"
      },
      "source": [
        "import numpy as np"
      ],
      "execution_count": 1,
      "outputs": []
    },
    {
      "cell_type": "code",
      "metadata": {
        "id": "bOcXZc8B6mnk"
      },
      "source": [
        "seq_fin = \"1 1 0\"\n",
        "seq_succes = \"0 1 1\""
      ],
      "execution_count": 128,
      "outputs": []
    },
    {
      "cell_type": "code",
      "metadata": {
        "id": "VXin-i8eFUmm"
      },
      "source": [
        "def test_succes(sequence, seq_succes, seq_fin):\n",
        "  index_fin = (str(sequence).find(seq_fin) - 1)/2\n",
        "  index_seq = (str(sequence).find(seq_succes) - 1)/2\n",
        "  if index_seq >= 0:\n",
        "    return index_seq < index_fin, index_fin > -1\n",
        "  else:\n",
        "    return False, False"
      ],
      "execution_count": 129,
      "outputs": []
    },
    {
      "cell_type": "code",
      "metadata": {
        "colab": {
          "base_uri": "https://localhost:8080/"
        },
        "id": "2OkaBmliHCn_",
        "outputId": "85bf568e-bf90-41fd-b66c-856fa7658436"
      },
      "source": [
        "succes = 0\n",
        "nb_essais = 0\n",
        "\n",
        "essais = 50000\n",
        "\n",
        "for i in range(essais):\n",
        "  sequence = np.random.randint(0,2,1000)\n",
        "  s, f = test_succes(sequence, seq_succes, seq_fin)\n",
        "  succes = succes + s\n",
        "  nb_essais = nb_essais + f # on ne considère que les essais pour lequel il y a la séquence de fin\n",
        "\n",
        "print(succes/nb_essais)"
      ],
      "execution_count": 130,
      "outputs": [
        {
          "output_type": "stream",
          "text": [
            "0.74694\n"
          ],
          "name": "stdout"
        }
      ]
    }
  ]
}